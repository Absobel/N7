{
 "cells": [
  {
   "cell_type": "markdown",
   "metadata": {},
   "source": [
    "<center>\n",
    "<h1> TP-Projet d'optimisation numérique </h1>\n",
    "<h1> Algorithme des régions de confiance </h1>\n",
    "</center>"
   ]
  },
  {
   "cell_type": "markdown",
   "metadata": {},
   "source": [
    "# Régions de confiance avec Pas de Cauchy \n",
    "\n",
    "## Implémentation \n",
    "\n",
    "1. Coder l'algorithme du pas de Cauchy dans le fichier `src/cauchy.jl`). La spécification de cet algorithme est donnée dans le fichier.\n",
    "2. Ecrire des tests exhaustifs (qui testent tous les cas de figure possibles) pour votre algorithme du pas de Cauchy. Vous remplirez pour cela le fichier `test/tester_cauchy.jl` sur le modèle des autres fichiers de tests et vous exécuterez dans la cellule de code ci-après ces tests."
   ]
  },
  {
   "cell_type": "code",
   "execution_count": 21,
   "metadata": {},
   "outputs": [
    {
     "name": "stdout",
     "output_type": "stream",
     "text": [
      "\u001b[0m\u001b[1mTest Summary: | \u001b[22m\u001b[32m\u001b[1mPass  \u001b[22m\u001b[39m\u001b[36m\u001b[1mTotal  \u001b[22m\u001b[39m\u001b[0m\u001b[1mTime\u001b[22m\n",
      "Pas de Cauchy | \u001b[32m   7  \u001b[39m\u001b[36m    7  \u001b[39m\u001b[0m0.0s\n"
     ]
    }
   ],
   "source": [
    "include(\"../src/cauchy.jl\")         # votre algorithme\n",
    "include(\"../test/tester_cauchy.jl\") # la fonction pour tester votre algorithme\n",
    "\n",
    "#\n",
    "tester_cauchy(cauchy); # tester l'algorithme"
   ]
  },
  {
   "cell_type": "markdown",
   "metadata": {},
   "source": [
    "3. Coder l'algorithme des régions de confiance (fichier `src/regions_de_confiance.jl`). Sa spécification est donnée dans le fichier.\n",
    "4. Vérifier que les tests ci-dessous passent."
   ]
  },
  {
   "cell_type": "code",
   "execution_count": 31,
   "metadata": {},
   "outputs": [
    {
     "name": "stdout",
     "output_type": "stream",
     "text": [
      "Affichage des résultats des algorithmes : true\n",
      "\n",
      "-------------------------------------------------------------------------\n",
      "\u001b[34m\u001b[1mRésultats de : RC et cauchy appliqué à f1:\u001b[22m\u001b[39m\n",
      "  * x0       = [1, 0, 0]\n",
      "  * x_sol    = [1.0000065049853921, 1.000000873235793, 0.9999952414861938]\n",
      "  * f(x_sol) = 7.71589405988668e-11\n",
      "  * nb_iters = 33\n",
      "  * flag     = 2\n",
      "  * solution = [1, 1, 1]\n",
      "-------------------------------------------------------------------------\n",
      "\u001b[34m\u001b[1mRésultats de : RC et cauchy appliqué à f1:\u001b[22m\u001b[39m\n",
      "  * x0       = [10.0, 3.0, -2.2]\n",
      "  * x_sol    = [1.000003643199092, 0.9999997146801121, 0.9999957861612833]\n",
      "  * f(x_sol) = 3.233185493810428e-11\n",
      "  * nb_iters = 34\n",
      "  * flag     = 2\n",
      "  * solution = [1, 1, 1]\n",
      "-------------------------------------------------------------------------\n",
      "\u001b[34m\u001b[1mRésultats de : RC et cauchy appliqué à f2:\u001b[22m\u001b[39m\n",
      "  * x0       = [-1.2, 1.0]\n",
      "  * x_sol    = [0.999352919778289, 0.9987042941073713]\n",
      "  * f(x_sol) = 4.19098606573656e-7\n",
      "  * nb_iters = 5000\n",
      "  * flag     = 3\n",
      "  * solution = [1, 1]\n",
      "-------------------------------------------------------------------------\n",
      "\u001b[34m\u001b[1mRésultats de : RC et cauchy appliqué à f2:\u001b[22m\u001b[39m\n",
      "  * x0       = [10, 0]\n",
      "  * x_sol    = [0.9961677295964368, 0.9923393628804894]\n",
      "  * f(x_sol) = 1.4697922911344958e-5\n",
      "  * nb_iters = 864\n",
      "  * flag     = 0\n",
      "  * solution = [1, 1]\n",
      "-------------------------------------------------------------------------\n",
      "\u001b[34m\u001b[1mRésultats de : RC et cauchy appliqué à f2:\u001b[22m\u001b[39m\n",
      "  * x0       = [0.0, 0.0050000000010000005]\n",
      "  * x_sol    = [0.9998396448637233, 0.9996777928338819]\n",
      "  * f(x_sol) = 2.5945603039827217e-8\n",
      "  * nb_iters = 4512\n",
      "  * flag     = 2\n",
      "  * solution = [1, 1]\n",
      "\u001b[0m\u001b[1mTest Summary:        | \u001b[22m\u001b[32m\u001b[1mPass  \u001b[22m\u001b[39m\u001b[36m\u001b[1mTotal  \u001b[22m\u001b[39m\u001b[0m\u001b[1mTime\u001b[22m\n",
      "RC et pas de Cauchy  | \u001b[32m  15  \u001b[39m\u001b[36m   15  \u001b[39m\u001b[0m0.4s\n"
     ]
    }
   ],
   "source": [
    "include(\"../src/regions_de_confiance.jl\")\n",
    "include(\"../test/tester_rc_cauchy.jl\")\n",
    "\n",
    "#\n",
    "afficher = true # si true, alors affiche les résultats des algorithmes\n",
    "\n",
    "#\n",
    "tester_rc_cauchy(regions_de_confiance, afficher);"
   ]
  },
  {
   "cell_type": "markdown",
   "metadata": {},
   "source": [
    "## Interprétation \n",
    "\n",
    "<!-- Pour ces questions, des représentations graphiques sont attendues pour corroborer vos réponses. -->\n",
    "\n",
    "1. Soit la fonction $f_1 \\colon \\mathbb{R}^3 \\to \\mathbb{R}$ définie par\n",
    "$$ \n",
    "    f_1(x_1,x_2, x_3) = 2 (x_1 +x_2 + x_3 -3)^2 + (x_1-x_2)^2 + (x_2 - x_3)^2\n",
    "$$ \n",
    "Quelle relation lie la fonction $f_1$ et son modèle de Taylor à l’ordre 2 ? Comparer alors les performances de l'algorithme de Newton et celui des régions de confiance avec le pas de Cauchy sur cette fonction.\n",
    "\n",
    "2. Le rayon initial de la région de confiance est un paramètre important dans l’analyse\n",
    "de la performance de l’algorithme. Sur quel(s) autre(s) paramètre(s) peut-on jouer\n",
    "pour essayer d’améliorer cette performance ? Étudier l’influence d’au moins deux de\n",
    "ces paramètres. Pour cela vous ferez des tests numériques et donnerez les résultats sous forme de tableaux et de graphiques."
   ]
  },
  {
   "cell_type": "code",
   "execution_count": 43,
   "metadata": {},
   "outputs": [
    {
     "name": "stdout",
     "output_type": "stream",
     "text": [
      "Temps moyen pour newton: 0.01582038402557373\n",
      "Temps moyen pour regions_de_confiance avec cauchy: 0.0425335168838501\n",
      "Ecart relatif: 0.6280490026541703\n"
     ]
    }
   ],
   "source": [
    "include(\"../src/newton.jl\")\n",
    "include(\"../src/regions_de_confiance.jl\")\n",
    "include(\"../test/fonctions_de_tests.jl\")\n",
    "\n",
    "# Expérimentations numériques à faire ici\n",
    "# Vous pouvez utiliser le package Plots pour les affichages de courbes: using Plots\n",
    "\n",
    "# f1 est identique à son modèle de taylor à l'ordre 2 car elle est quadratique\n",
    "\n",
    "tn = []\n",
    "trc = []\n",
    "for x0 in [pts1.x011, pts1.x012]\n",
    "    t = time()  \n",
    "    _ = newton(fct1, grad_fct1, hess_fct1, x0)\n",
    "    tn = vcat(tn, time() - t)\n",
    "    \n",
    "\n",
    "    t = time()\n",
    "    _ = regions_de_confiance(fct1, grad_fct1, hess_fct1, x0, algo_pas = \"cauchy\")\n",
    "    trc = vcat(trc, time() - t)\n",
    "end\n",
    "\n",
    "tn_avg = sum(tn) / length(tn)\n",
    "trc_avg = sum(trc) / length(trc)\n",
    "\n",
    "println(\"Temps moyen pour newton: \", tn_avg)\n",
    "println(\"Temps moyen pour regions_de_confiance avec cauchy: \", trc_avg)\n",
    "\n",
    "# l'algorithme de newton est beaucoup plus rapide dans ce contexte car f1 est quadratique\n",
    "\n",
    "# 2 : On peut aussi jouer sur les facteurs de mise à jour de la région de confiance et les seuils pour la mise à jour.\n"
   ]
  },
  {
   "cell_type": "markdown",
   "metadata": {},
   "source": [
    "# Régions de confiance avec gradient conjugué tronqué\n",
    "\n",
    "## Implémentation \n",
    "\n",
    "1. Implémenter l’algorithme du gradient conjugué tronqué (fichier `src/gct.jl`). Sa spécification est dans le fichier.\n",
    "2. Vérifier que les tests ci-dessous passent."
   ]
  },
  {
   "cell_type": "code",
   "execution_count": 37,
   "metadata": {},
   "outputs": [
    {
     "name": "stdout",
     "output_type": "stream",
     "text": [
      "\u001b[0m\u001b[1mTest Summary:             | \u001b[22m\u001b[32m\u001b[1mPass  \u001b[22m\u001b[39m\u001b[36m\u001b[1mTotal  \u001b[22m\u001b[39m\u001b[0m\u001b[1mTime\u001b[22m\n",
      "Gradient conjugué tronqué | \u001b[32m   9  \u001b[39m\u001b[36m    9  \u001b[39m\u001b[0m0.2s\n"
     ]
    }
   ],
   "source": [
    "include(\"../src/gct.jl\")\n",
    "include(\"../test/tester_gct.jl\")\n",
    "\n",
    "#\n",
    "tester_gct(gct);"
   ]
  },
  {
   "cell_type": "markdown",
   "metadata": {},
   "source": [
    "3. Intégrer l’algorithme du gradient conjugué tronqué dans le code des régions de confiance.\n",
    "4. Vérifier que les tests ci-dessous passent."
   ]
  },
  {
   "cell_type": "code",
   "execution_count": 38,
   "metadata": {},
   "outputs": [
    {
     "name": "stdout",
     "output_type": "stream",
     "text": [
      "Affichage des résultats des algorithmes : false\n",
      "\n",
      "\u001b[0m\u001b[1mTest Summary: | \u001b[22m\u001b[32m\u001b[1mPass  \u001b[22m\u001b[39m\u001b[36m\u001b[1mTotal  \u001b[22m\u001b[39m\u001b[0m\u001b[1mTime\u001b[22m\n",
      "RC et gct     | \u001b[32m  15  \u001b[39m\u001b[36m   15  \u001b[39m\u001b[0m0.4s\n"
     ]
    }
   ],
   "source": [
    "include(\"../src/regions_de_confiance.jl\")\n",
    "include(\"../test/tester_rc_gct.jl\")\n",
    "\n",
    "#\n",
    "afficher = false # si true, alors affiche les résultats des algorithmes\n",
    "\n",
    "#\n",
    "tester_rc_gct(regions_de_confiance, afficher);"
   ]
  },
  {
   "attachments": {},
   "cell_type": "markdown",
   "metadata": {},
   "source": [
    "## Interprétation  \n",
    "\n",
    "Nous proposons de comparer l'utilisation du pas de Cauchy avec celle du gradient conjugué tronqué dans l'algorithme des régions de confiance.\n",
    "\n",
    "**Remarques.**\n",
    "* Nous vous demandons de réaliser des expérimentations numériques pour les comparaisons demandées ci-après.\n",
    "* Vous devez utiliser l'argument optionnel `max_iter_gct` et la sortie `xs` de l'algorithme des régions de confiance.\n",
    "* Vous pouvez comparer l'écart en norme entre les itérés de l'algorithme et la solution du problème.\n",
    "* Vous trouverez des choses utiles dans le fichier `test/fonctions_de_tests.jl`.\n",
    "\n",
    "1. Comparer dans le cas où l'on force le gradient conjugué tronqué à ne faire qu'une seule itération. Que remarquez vous ?\n",
    "2. Comparer dans le cas général. Que remarquez vous ?\n",
    "3. Quels sont les avantages et inconvénients des deux approches ?"
   ]
  },
  {
   "cell_type": "code",
   "execution_count": 52,
   "metadata": {},
   "outputs": [],
   "source": [
    "include(\"../src/regions_de_confiance.jl\")\n",
    "include(\"../test/fonctions_de_tests.jl\")\n",
    "\n",
    "import Pkg; Pkg.add(\"Plots\")\n",
    "import Plots\n",
    "\n",
    "# Expérimentations numériques à faire ici.\n",
    "# Vous pouvez utiliser le package Plots pour les affichages de courbes: using Plots\n",
    "\n",
    "# 1 :\n",
    "\n",
    "for x0 in [pts1.x021, pts1.x022, pts1.x023]\n",
    "    x_sol_c, f_sol_c, flag_c, nb_iters_c, xs_c = regions_de_confiance(fct2, grad_fct2, hess_fct2, x0, algo_pas = \"cauchy\")\n",
    "    x_sol_gct, f_sol_gct, flag_gct, nb_iters_gct, xs_gct = regions_de_confiance(fct2, grad_fct2, hess_fct2, x0, algo_pas = \"gct\", max_iter_gct = 1)\n",
    "\n",
    "    map_sol_c = map(x -> norm(x - x_sol_c), xs_c)\n",
    "    map_sol_gct = map(x -> norm(x - x_sol_gct), xs_gct)\n",
    "\n",
    "    println(\"écart en norme entre les itérés de l'algorithme et la solution pour x0 = \", x0)\n",
    "    println(\"cauchy: \", map_sol_c)\n",
    "    println(\"nombre d'itérations pour cauchy: \", nb_iters_c)\n",
    "    println(\"gct: \", map_sol_gct)\n",
    "    println(\"nombre d'itérations pour gct: \", nb_iters_gct)\n",
    "    \n",
    "    ## J'ai pas réussi à faire fonctionner Plots\n",
    "    # Plots.plot(1:nb_iters_c, map_sol_c, label = \"cauchy\", title = \"Écart en norme entre les itérés de l'algorithme et la solution\", xlabel = \"Nombre d'itérations\", ylabel = \"Norme de la différence entre x et x_sol\")\n",
    "    # Plots.plot!(1:nb_iters_gct, map_sol_gct, label = \"gct\")\n",
    "    # Plots.savefig(\"exp1_\" * string(x0) * \".png\")\n",
    "end\n",
    "\n",
    "# en limitant le nombre d'itération de gct à 1, on voit que l'algorithme converge très rapidement vers la solution, bien plus vite que Cauchy"
   ]
  }
 ],
 "metadata": {
  "kernelspec": {
   "display_name": "Julia 1.10.2",
   "language": "julia",
   "name": "julia-1.10"
  },
  "language_info": {
   "file_extension": ".jl",
   "mimetype": "application/julia",
   "name": "julia",
   "version": "1.10.2"
  }
 },
 "nbformat": 4,
 "nbformat_minor": 4
}
