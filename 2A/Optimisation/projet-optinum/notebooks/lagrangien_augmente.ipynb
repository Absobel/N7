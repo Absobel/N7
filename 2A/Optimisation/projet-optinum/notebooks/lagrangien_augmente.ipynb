{
 "cells": [
  {
   "cell_type": "markdown",
   "metadata": {},
   "source": [
    "<center>\n",
    "<h1> TP-Projet d'optimisation numérique </h1>\n",
    "<h1> Algorithme du lagrangien augmenté </h1>\n",
    "</center>"
   ]
  },
  {
   "cell_type": "markdown",
   "metadata": {},
   "source": [
    "## Implémentation\n",
    "\n",
    "1. Implémenter l'algorithme du lagrangien augmenté, en utilisant les différentes méthodes\n",
    "qui ont été vues en première partie pour la résolution de la suite de problèmes sans\n",
    "contraintes (fichier `src/lagrangien_augmente.jl`). La spécification est donnée dans le fichier.\n",
    "2. Vérifier que les tests ci-dessous passent.\n",
    " "
   ]
  },
  {
   "cell_type": "code",
   "execution_count": null,
   "metadata": {},
   "outputs": [],
   "source": [
    "include(\"../src/lagrangien_augmente.jl\")\n",
    "include(\"../test/tester_lagrangien_augmente.jl\")\n",
    "\n",
    "#\n",
    "afficher = false # si true, alors affiche les résultats des algorithmes\n",
    "\n",
    "#\n",
    "tester_lagrangien_augmente(lagrangien_augmente, afficher);"
   ]
  },
  {
   "cell_type": "markdown",
   "metadata": {},
   "source": [
    "## Interprétation\n",
    "\n",
    " 1. Commenter les résultats obtenus, en étudiant notamment les valeurs en sortie de $\\lambda_k$ et $\\mu_k$.\n",
    " 2. Étudier l'influence du paramètre $\\tau$ dans la performance de l'algorithme. Pour cela Vous réaliserez des tests numériques."
   ]
  },
  {
   "cell_type": "code",
   "execution_count": null,
   "metadata": {},
   "outputs": [],
   "source": [
    "# Expérimentations numériques à faire ici.\n",
    "# Vous pouvez utiliser le package Plots pour les affichages de courbes: using Plots"
   ]
  }
 ],
 "metadata": {
  "kernelspec": {
   "display_name": "Julia 1.8.2",
   "language": "julia",
   "name": "julia-1.8"
  },
  "language_info": {
   "file_extension": ".jl",
   "mimetype": "application/julia",
   "name": "julia",
   "version": "1.8.2"
  }
 },
 "nbformat": 4,
 "nbformat_minor": 4
}
